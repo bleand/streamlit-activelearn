{
 "cells": [
  {
   "cell_type": "markdown",
   "id": "0b6707ad",
   "metadata": {},
   "source": [
    "## Simple Active Learn\n",
    "\n",
    "This notebook shows a very simple implementation of active learn.\n",
    "\n",
    "Active learn is a technique that can enable data scientist to generate a labeled dataset from an unlabeled one easier than labeling it completely.\n",
    "There is labeling involved, but this process uses a model to identify the best samples to annotate reducing the time that it takes and providing immediate feedback on when the dataset is good enough.\n",
    "\n",
    "Active Learn can be splitted into 3 steps.\n",
    "* 1: Seeding\n",
    "* 2: Similarity\n",
    "* 3: Iteration\n",
    "\n",
    "On 1, we provide seeds (i.e. samples of each class) to identify potentially easy datapoints.\n",
    "Then, we do a similarity search on the dataset and present other similar samples that could be also used as starting points.\n",
    "Finally, we iterate by training a model with the current dataset, making predictions in the unlabeled dataset, and the best samples to annotate next. This last step can be repeated until we are pleased with the metrics.\n",
    "\n",
    "It is important to note, that though the first two steps are not strictly necessary and one can jump right to the iteration, providing seeds helps the model to find the right samples sooner and could save precious time."
   ]
  },
  {
   "cell_type": "code",
   "execution_count": 1,
   "id": "4dca7ae7",
   "metadata": {},
   "outputs": [],
   "source": [
    "# Import Libraries"
   ]
  },
  {
   "cell_type": "code",
   "execution_count": 34,
   "id": "75781b3a",
   "metadata": {},
   "outputs": [],
   "source": [
    "import pandas as pd\n",
    "from sklearn.model_selection import train_test_split\n",
    "from sklearn.feature_extraction.text import HashingVectorizer\n",
    "import scipy\n",
    "import numpy as np\n",
    "from ipyannotations.text import ClassLabeller"
   ]
  },
  {
   "cell_type": "markdown",
   "id": "43cad94f",
   "metadata": {},
   "source": [
    "### Load dataset\n",
    "\n",
    "For this experiment, are going to use the IMDB reviews sentiment dataset, and though we have the actual label, only the review column will be used. \n",
    "\n",
    "We'll generate the labels using Active Learn\n",
    "\n",
    "The reason for keeping a dataset with labels in here, is so we can later compare a model generated through active learn vs a model generated with all the labels from the beginning.\n",
    "\n",
    "For this, we are doing an 80-20 split of the dataset."
   ]
  },
  {
   "cell_type": "code",
   "execution_count": 6,
   "id": "4225c68d",
   "metadata": {},
   "outputs": [],
   "source": [
    "dataset = pd.read_csv('./../data/IMDB Dataset.csv')"
   ]
  },
  {
   "cell_type": "code",
   "execution_count": 7,
   "id": "c124ed8b",
   "metadata": {},
   "outputs": [
    {
     "data": {
      "text/html": [
       "<div>\n",
       "<style scoped>\n",
       "    .dataframe tbody tr th:only-of-type {\n",
       "        vertical-align: middle;\n",
       "    }\n",
       "\n",
       "    .dataframe tbody tr th {\n",
       "        vertical-align: top;\n",
       "    }\n",
       "\n",
       "    .dataframe thead th {\n",
       "        text-align: right;\n",
       "    }\n",
       "</style>\n",
       "<table border=\"1\" class=\"dataframe\">\n",
       "  <thead>\n",
       "    <tr style=\"text-align: right;\">\n",
       "      <th></th>\n",
       "      <th>review</th>\n",
       "      <th>sentiment</th>\n",
       "    </tr>\n",
       "  </thead>\n",
       "  <tbody>\n",
       "    <tr>\n",
       "      <th>0</th>\n",
       "      <td>One of the other reviewers has mentioned that ...</td>\n",
       "      <td>positive</td>\n",
       "    </tr>\n",
       "    <tr>\n",
       "      <th>1</th>\n",
       "      <td>A wonderful little production. &lt;br /&gt;&lt;br /&gt;The...</td>\n",
       "      <td>positive</td>\n",
       "    </tr>\n",
       "    <tr>\n",
       "      <th>2</th>\n",
       "      <td>I thought this was a wonderful way to spend ti...</td>\n",
       "      <td>positive</td>\n",
       "    </tr>\n",
       "    <tr>\n",
       "      <th>3</th>\n",
       "      <td>Basically there's a family where a little boy ...</td>\n",
       "      <td>negative</td>\n",
       "    </tr>\n",
       "    <tr>\n",
       "      <th>4</th>\n",
       "      <td>Petter Mattei's \"Love in the Time of Money\" is...</td>\n",
       "      <td>positive</td>\n",
       "    </tr>\n",
       "  </tbody>\n",
       "</table>\n",
       "</div>"
      ],
      "text/plain": [
       "                                              review sentiment\n",
       "0  One of the other reviewers has mentioned that ...  positive\n",
       "1  A wonderful little production. <br /><br />The...  positive\n",
       "2  I thought this was a wonderful way to spend ti...  positive\n",
       "3  Basically there's a family where a little boy ...  negative\n",
       "4  Petter Mattei's \"Love in the Time of Money\" is...  positive"
      ]
     },
     "execution_count": 7,
     "metadata": {},
     "output_type": "execute_result"
    }
   ],
   "source": [
    "dataset.head()"
   ]
  },
  {
   "cell_type": "code",
   "execution_count": 8,
   "id": "31e5d0bf",
   "metadata": {},
   "outputs": [],
   "source": [
    "train_dataset, test_dataset = train_test_split(dataset, test_size=0.2)"
   ]
  },
  {
   "cell_type": "code",
   "execution_count": 9,
   "id": "775cc8ea",
   "metadata": {},
   "outputs": [],
   "source": [
    "al_dataset = train_dataset[['review']]"
   ]
  },
  {
   "cell_type": "code",
   "execution_count": 10,
   "id": "85f51313",
   "metadata": {},
   "outputs": [
    {
     "data": {
      "text/html": [
       "<div>\n",
       "<style scoped>\n",
       "    .dataframe tbody tr th:only-of-type {\n",
       "        vertical-align: middle;\n",
       "    }\n",
       "\n",
       "    .dataframe tbody tr th {\n",
       "        vertical-align: top;\n",
       "    }\n",
       "\n",
       "    .dataframe thead th {\n",
       "        text-align: right;\n",
       "    }\n",
       "</style>\n",
       "<table border=\"1\" class=\"dataframe\">\n",
       "  <thead>\n",
       "    <tr style=\"text-align: right;\">\n",
       "      <th></th>\n",
       "      <th>review</th>\n",
       "      <th>sentiment</th>\n",
       "    </tr>\n",
       "  </thead>\n",
       "  <tbody>\n",
       "    <tr>\n",
       "      <th>14351</th>\n",
       "      <td>I think it's a great movie!! It's fun, maybe a...</td>\n",
       "      <td>negative</td>\n",
       "    </tr>\n",
       "    <tr>\n",
       "      <th>44066</th>\n",
       "      <td>Drifting around on bootlegs, sometimes thought...</td>\n",
       "      <td>negative</td>\n",
       "    </tr>\n",
       "    <tr>\n",
       "      <th>10909</th>\n",
       "      <td>This movie had some andrenaline kickers, but i...</td>\n",
       "      <td>negative</td>\n",
       "    </tr>\n",
       "    <tr>\n",
       "      <th>2676</th>\n",
       "      <td>This is a extremely well-made film. The acting...</td>\n",
       "      <td>positive</td>\n",
       "    </tr>\n",
       "    <tr>\n",
       "      <th>2514</th>\n",
       "      <td>The defining scene to this movie is when the f...</td>\n",
       "      <td>negative</td>\n",
       "    </tr>\n",
       "  </tbody>\n",
       "</table>\n",
       "</div>"
      ],
      "text/plain": [
       "                                                  review sentiment\n",
       "14351  I think it's a great movie!! It's fun, maybe a...  negative\n",
       "44066  Drifting around on bootlegs, sometimes thought...  negative\n",
       "10909  This movie had some andrenaline kickers, but i...  negative\n",
       "2676   This is a extremely well-made film. The acting...  positive\n",
       "2514   The defining scene to this movie is when the f...  negative"
      ]
     },
     "execution_count": 10,
     "metadata": {},
     "output_type": "execute_result"
    }
   ],
   "source": [
    "train_dataset.head()"
   ]
  },
  {
   "cell_type": "code",
   "execution_count": 11,
   "id": "d1699d35",
   "metadata": {},
   "outputs": [
    {
     "data": {
      "text/html": [
       "<div>\n",
       "<style scoped>\n",
       "    .dataframe tbody tr th:only-of-type {\n",
       "        vertical-align: middle;\n",
       "    }\n",
       "\n",
       "    .dataframe tbody tr th {\n",
       "        vertical-align: top;\n",
       "    }\n",
       "\n",
       "    .dataframe thead th {\n",
       "        text-align: right;\n",
       "    }\n",
       "</style>\n",
       "<table border=\"1\" class=\"dataframe\">\n",
       "  <thead>\n",
       "    <tr style=\"text-align: right;\">\n",
       "      <th></th>\n",
       "      <th>review</th>\n",
       "    </tr>\n",
       "  </thead>\n",
       "  <tbody>\n",
       "    <tr>\n",
       "      <th>14351</th>\n",
       "      <td>I think it's a great movie!! It's fun, maybe a...</td>\n",
       "    </tr>\n",
       "    <tr>\n",
       "      <th>44066</th>\n",
       "      <td>Drifting around on bootlegs, sometimes thought...</td>\n",
       "    </tr>\n",
       "    <tr>\n",
       "      <th>10909</th>\n",
       "      <td>This movie had some andrenaline kickers, but i...</td>\n",
       "    </tr>\n",
       "    <tr>\n",
       "      <th>2676</th>\n",
       "      <td>This is a extremely well-made film. The acting...</td>\n",
       "    </tr>\n",
       "    <tr>\n",
       "      <th>2514</th>\n",
       "      <td>The defining scene to this movie is when the f...</td>\n",
       "    </tr>\n",
       "  </tbody>\n",
       "</table>\n",
       "</div>"
      ],
      "text/plain": [
       "                                                  review\n",
       "14351  I think it's a great movie!! It's fun, maybe a...\n",
       "44066  Drifting around on bootlegs, sometimes thought...\n",
       "10909  This movie had some andrenaline kickers, but i...\n",
       "2676   This is a extremely well-made film. The acting...\n",
       "2514   The defining scene to this movie is when the f..."
      ]
     },
     "execution_count": 11,
     "metadata": {},
     "output_type": "execute_result"
    }
   ],
   "source": [
    "al_dataset.head()"
   ]
  },
  {
   "cell_type": "markdown",
   "id": "f7643de1",
   "metadata": {},
   "source": [
    "### Seeds\n",
    "\n",
    "What is very insteresting about seeds, is that they don't really need to be part of the dataset. Though in many scenarios it'd be easier to just go to the dataset and pick a few examples, here we already know what good and bad reviews are, so we can just come up with a few examples."
   ]
  },
  {
   "cell_type": "code",
   "execution_count": 12,
   "id": "f3972451",
   "metadata": {},
   "outputs": [],
   "source": [
    "good_reviews_seeds = [\n",
    "    \"This movie was great!\",\n",
    "    \"I had a great time watching this masterpiece.\",\n",
    "    \"The actors were very good in this movie\",\n",
    "    \"A good movie\"\n",
    "]"
   ]
  },
  {
   "cell_type": "code",
   "execution_count": 13,
   "id": "94f3d8a3",
   "metadata": {},
   "outputs": [],
   "source": [
    "bad_reviews_seeds = [\n",
    "    \"This movie was terrible!\",\n",
    "    \"I didn't enjoy this movie at all!\",\n",
    "    \"Don't watch it. It is a waste of time\",\n",
    "    \"A boring movie\"\n",
    "]"
   ]
  },
  {
   "cell_type": "markdown",
   "id": "da4784f0",
   "metadata": {},
   "source": [
    "### Similarity\n",
    "\n",
    "Once we have the seeds, now we can find similar samples in our corpus to start the labelling process.\n",
    "\n",
    "Based on the problem, this is a point where we can get very creative or keep it simple. We are going for the second option here.\n",
    "\n",
    "For each seed, we'll get two similar reviews"
   ]
  },
  {
   "cell_type": "code",
   "execution_count": 14,
   "id": "52ba2753",
   "metadata": {},
   "outputs": [],
   "source": [
    "vectorizer = HashingVectorizer(n_features=600,ngram_range=(1,6),lowercase=False,analyzer='char_wb')"
   ]
  },
  {
   "cell_type": "code",
   "execution_count": 15,
   "id": "ec283d01",
   "metadata": {},
   "outputs": [],
   "source": [
    "good_vectors = vectorizer.fit_transform(good_reviews_seeds).todense()"
   ]
  },
  {
   "cell_type": "code",
   "execution_count": 16,
   "id": "0c787931",
   "metadata": {},
   "outputs": [],
   "source": [
    "bad_vectors = vectorizer.fit_transform(bad_reviews_seeds).todense()"
   ]
  },
  {
   "cell_type": "code",
   "execution_count": 17,
   "id": "d7833771",
   "metadata": {},
   "outputs": [],
   "source": [
    "reviews_vectors = vectorizer.fit_transform(al_dataset.review.tolist()).todense()"
   ]
  },
  {
   "cell_type": "code",
   "execution_count": 18,
   "id": "b984223e",
   "metadata": {},
   "outputs": [],
   "source": [
    "NUM_SAMPLES = 2\n",
    "\n",
    "# Calculate cosine distance (opposite to cosine similarity)\n",
    "good_distances = scipy.spatial.distance.cdist(good_vectors, reviews_vectors, metric='cosine')\n",
    "bad_distances = scipy.spatial.distance.cdist(bad_vectors, reviews_vectors, metric='cosine')\n",
    "\n",
    "# Sort in ascending order and pick the first 10 of each\n",
    "closest_k_good = np.argsort(good_distances)[:, :NUM_SAMPLES].flatten()\n",
    "closest_k_bad = np.argsort(bad_distances)[:, :NUM_SAMPLES].flatten()\n",
    "\n",
    "good_to_label_idxs = list(set(list(closest_k_good)))\n",
    "bad_to_label_idxs = list(set(list(closest_k_bad)))"
   ]
  },
  {
   "cell_type": "code",
   "execution_count": 36,
   "id": "e35f2ba0",
   "metadata": {},
   "outputs": [],
   "source": [
    "import IPython.display\n",
    "\n",
    "def display_text(ix):\n",
    "    display('Review:')\n"
   ]
  },
  {
   "cell_type": "code",
   "execution_count": 38,
   "id": "4bbe3cfa",
   "metadata": {},
   "outputs": [
    {
     "data": {
      "application/vnd.jupyter.widget-view+json": {
       "model_id": "d7aeeeb3656a415d89b60617f091de7c",
       "version_major": 2,
       "version_minor": 0
      },
      "text/plain": [
       "ClassLabeller(children=(Box(children=(Output(layout=Layout(margin='auto', min_height='50px')),), layout=Layout…"
      ]
     },
     "execution_count": 38,
     "metadata": {},
     "output_type": "execute_result"
    }
   ],
   "source": [
    "widget = ClassLabeller(\n",
    "    features=[\"A\", \"B\"],\n",
    "    #display_function=display_text,\n",
    "    options=[\"positive\", \"negative\"],\n",
    "    allow_freetext=False\n",
    ")\n",
    "widget"
   ]
  },
  {
   "cell_type": "code",
   "execution_count": null,
   "id": "28fc3539",
   "metadata": {},
   "outputs": [],
   "source": []
  }
 ],
 "metadata": {
  "kernelspec": {
   "display_name": "alstreamlit",
   "language": "python",
   "name": "alstreamlit"
  },
  "language_info": {
   "codemirror_mode": {
    "name": "ipython",
    "version": 3
   },
   "file_extension": ".py",
   "mimetype": "text/x-python",
   "name": "python",
   "nbconvert_exporter": "python",
   "pygments_lexer": "ipython3",
   "version": "3.9.14"
  }
 },
 "nbformat": 4,
 "nbformat_minor": 5
}
