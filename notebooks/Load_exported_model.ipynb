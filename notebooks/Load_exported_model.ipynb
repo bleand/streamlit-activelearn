{
 "cells": [
  {
   "cell_type": "code",
   "execution_count": 1,
   "id": "53cd29c6",
   "metadata": {},
   "outputs": [],
   "source": [
    "import pickle"
   ]
  },
  {
   "cell_type": "code",
   "execution_count": 2,
   "id": "5bc406a4",
   "metadata": {},
   "outputs": [],
   "source": [
    "vec_path = './../exports/2023-03-05_04-33-49/vectorizer.pkl'\n",
    "mod_path = './../exports/2023-03-05_04-33-49/model.pkl'"
   ]
  },
  {
   "cell_type": "code",
   "execution_count": 5,
   "id": "6e65501f",
   "metadata": {},
   "outputs": [],
   "source": [
    "vectorizer = pickle.load(open(vec_path, 'rb'))"
   ]
  },
  {
   "cell_type": "code",
   "execution_count": 6,
   "id": "278aa17b",
   "metadata": {},
   "outputs": [],
   "source": [
    "model = pickle.load(open(mod_path, 'rb'))"
   ]
  },
  {
   "cell_type": "code",
   "execution_count": 12,
   "id": "b7c5ff96",
   "metadata": {},
   "outputs": [],
   "source": [
    "tests = ['BAD BAD BAD movie',\n",
    "        'GOOD GOOD GOOD movie']"
   ]
  },
  {
   "cell_type": "code",
   "execution_count": 13,
   "id": "0af84a77",
   "metadata": {},
   "outputs": [],
   "source": [
    "feats = vectorizer.transform(tests)"
   ]
  },
  {
   "cell_type": "code",
   "execution_count": 14,
   "id": "2bb2220d",
   "metadata": {},
   "outputs": [],
   "source": [
    "preds = model.predict(feats)"
   ]
  },
  {
   "cell_type": "code",
   "execution_count": 15,
   "id": "985f884c",
   "metadata": {},
   "outputs": [
    {
     "name": "stdout",
     "output_type": "stream",
     "text": [
      "BAD BAD BAD movie N\n",
      "GOOD GOOD GOOD movie N\n"
     ]
    }
   ],
   "source": [
    "for t, p in zip(tests, preds):\n",
    "    print(t, p)"
   ]
  },
  {
   "cell_type": "code",
   "execution_count": null,
   "id": "d042faf0",
   "metadata": {},
   "outputs": [],
   "source": []
  }
 ],
 "metadata": {
  "kernelspec": {
   "display_name": "alstreamlit",
   "language": "python",
   "name": "alstreamlit"
  },
  "language_info": {
   "codemirror_mode": {
    "name": "ipython",
    "version": 3
   },
   "file_extension": ".py",
   "mimetype": "text/x-python",
   "name": "python",
   "nbconvert_exporter": "python",
   "pygments_lexer": "ipython3",
   "version": "3.9.16"
  }
 },
 "nbformat": 4,
 "nbformat_minor": 5
}
